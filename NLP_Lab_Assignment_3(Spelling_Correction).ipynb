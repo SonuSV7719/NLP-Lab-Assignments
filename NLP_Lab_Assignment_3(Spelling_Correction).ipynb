{
  "nbformat": 4,
  "nbformat_minor": 0,
  "metadata": {
    "colab": {
      "provenance": []
    },
    "kernelspec": {
      "name": "python3",
      "display_name": "Python 3"
    },
    "language_info": {
      "name": "python"
    }
  },
  "cells": [
    {
      "cell_type": "code",
      "execution_count": 11,
      "metadata": {
        "colab": {
          "base_uri": "https://localhost:8080/"
        },
        "id": "jHVsWlX2yES5",
        "outputId": "9a0d4aa7-8ce6-4861-bd98-c7dc4e04202a"
      },
      "outputs": [
        {
          "output_type": "stream",
          "name": "stdout",
          "text": [
            "Enter Incorrect Word: rdha\n",
            "Input word: rdha\n",
            "Closest word: radha\n"
          ]
        }
      ],
      "source": [
        "def edit_distance(word1, word2):\n",
        "    m, n = len(word1), len(word2)\n",
        "    dp = [[0] * (n + 1) for _ in range(m + 1)]\n",
        "\n",
        "    for i in range(m + 1):\n",
        "        dp[i][0] = i\n",
        "    for j in range(n + 1):\n",
        "        dp[0][j] = j\n",
        "\n",
        "    for i in range(1, m + 1):\n",
        "        for j in range(1, n + 1):\n",
        "            if word1[i - 1] == word2[j - 1]:\n",
        "                dp[i][j] = dp[i - 1][j - 1]\n",
        "            else:\n",
        "                dp[i][j] = 1 + min(dp[i - 1][j], dp[i][j - 1], dp[i - 1][j - 1])\n",
        "\n",
        "    return dp[m][n]\n",
        "\n",
        "\n",
        "def correct_spelling(word, word_list):\n",
        "    min_distance = float('inf')\n",
        "    closest_word = \"\"\n",
        "\n",
        "    for candidate in word_list:\n",
        "        distance = edit_distance(word, candidate)\n",
        "        # print(distance)\n",
        "        if distance < min_distance:\n",
        "            min_distance = distance\n",
        "            closest_word = candidate\n",
        "\n",
        "    return closest_word\n",
        "\n",
        "\n",
        "words = [\"apple\", \"banana\", \"cherry\", \"date\", \"elderberry\", 'sonu', 'ram', 'radha']\n",
        "\n",
        "input_word = input(\"Enter Incorrect Word: \")\n",
        "\n",
        "closest_word = correct_spelling(input_word, words)\n",
        "print(\"Input word:\", input_word)\n",
        "print(\"Closest word:\", closest_word)\n"
      ]
    },
    {
      "cell_type": "code",
      "source": [],
      "metadata": {
        "id": "IKJU1qPRyXNe"
      },
      "execution_count": null,
      "outputs": []
    }
  ]
}